{
 "cells": [
  {
   "cell_type": "markdown",
   "id": "401b373c",
   "metadata": {},
   "source": [
    "setting up the framework to develop and backtest algorithms\n",
    "\n",
    "## Basic strategies to implement\n",
    "\n",
    "### Simple moving averages (SMA)\n",
    "when the moving average over a longer period of time crosses the moving average over a shorter period of time, that's our indicator.\n",
    "\n",
    "### momentum\n",
    "recent performance been up in the last say 4 days then it'll probably be up today also\n",
    "\n",
    "### mean reversion\n",
    "if sotck is above/below the mean it'll probably revert and approach the mean/moving average\n",
    "\n",
    "\n",
    "# Vectorized Implementation\n",
    "we will make some predetermined simplifications so that i have more focus on the practice of vectorization\n",
    "\n",
    "### simple trading strategies\n",
    "vectorized backtesting has limitations when it comes to backtesting, however, simple strategies can be tested well\n",
    "\n",
    "### interactive strategy exploration\n",
    "this vectorized backtesting allows for us to quickly explore trading strategies and their characteristics, parameters can then also be swapped out\n",
    "\n",
    "### visualization as a goal\n",
    "this approach lends itself well to being able to create visualizations of the data we are working with\n",
    "\n",
    "### also it's fast!"
   ]
  },
  {
   "cell_type": "markdown",
   "id": "3370d183",
   "metadata": {},
   "source": []
  }
 ],
 "metadata": {
  "language_info": {
   "name": "python"
  }
 },
 "nbformat": 4,
 "nbformat_minor": 5
}
