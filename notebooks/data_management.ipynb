{
 "cells": [
  {
   "cell_type": "code",
   "execution_count": 1,
   "metadata": {},
   "outputs": [],
   "source": [
    "import pandas as pd\n",
    "import yfinance as yf\n",
    "import environment\n",
    "import nasdaqdatalink # this is now the quandl API\n",
    "\n",
    "nasdaqdatalink.ApiConfig.api_key = environment.API_KEY"
   ]
  },
  {
   "cell_type": "code",
   "execution_count": 2,
   "metadata": {},
   "outputs": [],
   "source": [
    "#data = nasdaqdatalink.get_table(\"FRED/GDP\") # only get_table works, not get"
   ]
  },
  {
   "cell_type": "code",
   "execution_count": 3,
   "metadata": {},
   "outputs": [
    {
     "data": {
      "text/html": [
       "<div>\n",
       "<style scoped>\n",
       "    .dataframe tbody tr th:only-of-type {\n",
       "        vertical-align: middle;\n",
       "    }\n",
       "\n",
       "    .dataframe tbody tr th {\n",
       "        vertical-align: top;\n",
       "    }\n",
       "\n",
       "    .dataframe thead th {\n",
       "        text-align: right;\n",
       "    }\n",
       "</style>\n",
       "<table border=\"1\" class=\"dataframe\">\n",
       "  <thead>\n",
       "    <tr style=\"text-align: right;\">\n",
       "      <th></th>\n",
       "      <th>Open</th>\n",
       "      <th>High</th>\n",
       "      <th>Low</th>\n",
       "      <th>Close</th>\n",
       "      <th>Volume</th>\n",
       "      <th>Dividends</th>\n",
       "      <th>Stock Splits</th>\n",
       "    </tr>\n",
       "    <tr>\n",
       "      <th>Date</th>\n",
       "      <th></th>\n",
       "      <th></th>\n",
       "      <th></th>\n",
       "      <th></th>\n",
       "      <th></th>\n",
       "      <th></th>\n",
       "      <th></th>\n",
       "    </tr>\n",
       "  </thead>\n",
       "  <tbody>\n",
       "    <tr>\n",
       "      <th>2020-04-22 00:00:00-04:00</th>\n",
       "      <td>66.399409</td>\n",
       "      <td>67.440504</td>\n",
       "      <td>66.057238</td>\n",
       "      <td>67.003685</td>\n",
       "      <td>116862400</td>\n",
       "      <td>0.0</td>\n",
       "      <td>0.0</td>\n",
       "    </tr>\n",
       "    <tr>\n",
       "      <th>2020-04-23 00:00:00-04:00</th>\n",
       "      <td>66.947860</td>\n",
       "      <td>68.374814</td>\n",
       "      <td>66.705181</td>\n",
       "      <td>66.744011</td>\n",
       "      <td>124814400</td>\n",
       "      <td>0.0</td>\n",
       "      <td>0.0</td>\n",
       "    </tr>\n",
       "    <tr>\n",
       "      <th>2020-04-24 00:00:00-04:00</th>\n",
       "      <td>67.270628</td>\n",
       "      <td>68.680592</td>\n",
       "      <td>67.222089</td>\n",
       "      <td>68.670883</td>\n",
       "      <td>126161200</td>\n",
       "      <td>0.0</td>\n",
       "      <td>0.0</td>\n",
       "    </tr>\n",
       "    <tr>\n",
       "      <th>2020-04-27 00:00:00-04:00</th>\n",
       "      <td>68.386930</td>\n",
       "      <td>69.051875</td>\n",
       "      <td>67.937980</td>\n",
       "      <td>68.719406</td>\n",
       "      <td>117087600</td>\n",
       "      <td>0.0</td>\n",
       "      <td>0.0</td>\n",
       "    </tr>\n",
       "    <tr>\n",
       "      <th>2020-04-28 00:00:00-04:00</th>\n",
       "      <td>69.182936</td>\n",
       "      <td>69.364945</td>\n",
       "      <td>67.513310</td>\n",
       "      <td>67.605522</td>\n",
       "      <td>112004800</td>\n",
       "      <td>0.0</td>\n",
       "      <td>0.0</td>\n",
       "    </tr>\n",
       "  </tbody>\n",
       "</table>\n",
       "</div>"
      ],
      "text/plain": [
       "                                Open       High        Low      Close  \\\n",
       "Date                                                                    \n",
       "2020-04-22 00:00:00-04:00  66.399409  67.440504  66.057238  67.003685   \n",
       "2020-04-23 00:00:00-04:00  66.947860  68.374814  66.705181  66.744011   \n",
       "2020-04-24 00:00:00-04:00  67.270628  68.680592  67.222089  68.670883   \n",
       "2020-04-27 00:00:00-04:00  68.386930  69.051875  67.937980  68.719406   \n",
       "2020-04-28 00:00:00-04:00  69.182936  69.364945  67.513310  67.605522   \n",
       "\n",
       "                              Volume  Dividends  Stock Splits  \n",
       "Date                                                           \n",
       "2020-04-22 00:00:00-04:00  116862400        0.0           0.0  \n",
       "2020-04-23 00:00:00-04:00  124814400        0.0           0.0  \n",
       "2020-04-24 00:00:00-04:00  126161200        0.0           0.0  \n",
       "2020-04-27 00:00:00-04:00  117087600        0.0           0.0  \n",
       "2020-04-28 00:00:00-04:00  112004800        0.0           0.0  "
      ]
     },
     "execution_count": 3,
     "metadata": {},
     "output_type": "execute_result"
    }
   ],
   "source": [
    "# Download Apple stock data for the last 5 years\n",
    "aapl = yf.Ticker(\"AAPL\")\n",
    "df = aapl.history(period=\"5y\")\n",
    "\n",
    "# Preview the data\n",
    "df.head()"
   ]
  },
  {
   "cell_type": "code",
   "execution_count": 4,
   "metadata": {},
   "outputs": [
    {
     "name": "stdout",
     "output_type": "stream",
     "text": [
      "<class 'pandas.core.frame.DataFrame'>\n",
      "DatetimeIndex: 1257 entries, 2020-04-22 00:00:00-04:00 to 2025-04-22 00:00:00-04:00\n",
      "Data columns (total 7 columns):\n",
      " #   Column        Non-Null Count  Dtype  \n",
      "---  ------        --------------  -----  \n",
      " 0   Open          1257 non-null   float64\n",
      " 1   High          1257 non-null   float64\n",
      " 2   Low           1257 non-null   float64\n",
      " 3   Close         1257 non-null   float64\n",
      " 4   Volume        1257 non-null   int64  \n",
      " 5   Dividends     1257 non-null   float64\n",
      " 6   Stock Splits  1257 non-null   float64\n",
      "dtypes: float64(6), int64(1)\n",
      "memory usage: 78.6 KB\n"
     ]
    }
   ],
   "source": [
    "df.info()"
   ]
  },
  {
   "cell_type": "code",
   "execution_count": 5,
   "metadata": {},
   "outputs": [
    {
     "name": "stderr",
     "output_type": "stream",
     "text": [
      "/tmp/ipykernel_19/3941829170.py:1: FutureWarning: 'A' is deprecated and will be removed in a future version, please use 'YE' instead.\n",
      "  df.resample(\"A\").last()\n"
     ]
    },
    {
     "data": {
      "text/html": [
       "<div>\n",
       "<style scoped>\n",
       "    .dataframe tbody tr th:only-of-type {\n",
       "        vertical-align: middle;\n",
       "    }\n",
       "\n",
       "    .dataframe tbody tr th {\n",
       "        vertical-align: top;\n",
       "    }\n",
       "\n",
       "    .dataframe thead th {\n",
       "        text-align: right;\n",
       "    }\n",
       "</style>\n",
       "<table border=\"1\" class=\"dataframe\">\n",
       "  <thead>\n",
       "    <tr style=\"text-align: right;\">\n",
       "      <th></th>\n",
       "      <th>Open</th>\n",
       "      <th>High</th>\n",
       "      <th>Low</th>\n",
       "      <th>Close</th>\n",
       "      <th>Volume</th>\n",
       "      <th>Dividends</th>\n",
       "      <th>Stock Splits</th>\n",
       "    </tr>\n",
       "    <tr>\n",
       "      <th>Date</th>\n",
       "      <th></th>\n",
       "      <th></th>\n",
       "      <th></th>\n",
       "      <th></th>\n",
       "      <th></th>\n",
       "      <th></th>\n",
       "      <th></th>\n",
       "    </tr>\n",
       "  </thead>\n",
       "  <tbody>\n",
       "    <tr>\n",
       "      <th>2020-12-31 00:00:00-05:00</th>\n",
       "      <td>130.966810</td>\n",
       "      <td>131.611489</td>\n",
       "      <td>128.661606</td>\n",
       "      <td>129.609085</td>\n",
       "      <td>99116600</td>\n",
       "      <td>0.0</td>\n",
       "      <td>0.0</td>\n",
       "    </tr>\n",
       "    <tr>\n",
       "      <th>2021-12-31 00:00:00-05:00</th>\n",
       "      <td>175.027312</td>\n",
       "      <td>176.147707</td>\n",
       "      <td>174.211584</td>\n",
       "      <td>174.516266</td>\n",
       "      <td>64062300</td>\n",
       "      <td>0.0</td>\n",
       "      <td>0.0</td>\n",
       "    </tr>\n",
       "    <tr>\n",
       "      <th>2022-12-31 00:00:00-05:00</th>\n",
       "      <td>126.934142</td>\n",
       "      <td>128.456435</td>\n",
       "      <td>125.965402</td>\n",
       "      <td>128.436661</td>\n",
       "      <td>77034200</td>\n",
       "      <td>0.0</td>\n",
       "      <td>0.0</td>\n",
       "    </tr>\n",
       "    <tr>\n",
       "      <th>2023-12-31 00:00:00-05:00</th>\n",
       "      <td>192.742785</td>\n",
       "      <td>193.239801</td>\n",
       "      <td>190.585738</td>\n",
       "      <td>191.380966</td>\n",
       "      <td>42628800</td>\n",
       "      <td>0.0</td>\n",
       "      <td>0.0</td>\n",
       "    </tr>\n",
       "    <tr>\n",
       "      <th>2024-12-31 00:00:00-05:00</th>\n",
       "      <td>252.162760</td>\n",
       "      <td>253.001833</td>\n",
       "      <td>249.156056</td>\n",
       "      <td>250.144974</td>\n",
       "      <td>39480700</td>\n",
       "      <td>0.0</td>\n",
       "      <td>0.0</td>\n",
       "    </tr>\n",
       "    <tr>\n",
       "      <th>2025-12-31 00:00:00-05:00</th>\n",
       "      <td>196.070007</td>\n",
       "      <td>201.550003</td>\n",
       "      <td>196.000000</td>\n",
       "      <td>199.750000</td>\n",
       "      <td>30327556</td>\n",
       "      <td>0.0</td>\n",
       "      <td>0.0</td>\n",
       "    </tr>\n",
       "  </tbody>\n",
       "</table>\n",
       "</div>"
      ],
      "text/plain": [
       "                                 Open        High         Low       Close  \\\n",
       "Date                                                                        \n",
       "2020-12-31 00:00:00-05:00  130.966810  131.611489  128.661606  129.609085   \n",
       "2021-12-31 00:00:00-05:00  175.027312  176.147707  174.211584  174.516266   \n",
       "2022-12-31 00:00:00-05:00  126.934142  128.456435  125.965402  128.436661   \n",
       "2023-12-31 00:00:00-05:00  192.742785  193.239801  190.585738  191.380966   \n",
       "2024-12-31 00:00:00-05:00  252.162760  253.001833  249.156056  250.144974   \n",
       "2025-12-31 00:00:00-05:00  196.070007  201.550003  196.000000  199.750000   \n",
       "\n",
       "                             Volume  Dividends  Stock Splits  \n",
       "Date                                                          \n",
       "2020-12-31 00:00:00-05:00  99116600        0.0           0.0  \n",
       "2021-12-31 00:00:00-05:00  64062300        0.0           0.0  \n",
       "2022-12-31 00:00:00-05:00  77034200        0.0           0.0  \n",
       "2023-12-31 00:00:00-05:00  42628800        0.0           0.0  \n",
       "2024-12-31 00:00:00-05:00  39480700        0.0           0.0  \n",
       "2025-12-31 00:00:00-05:00  30327556        0.0           0.0  "
      ]
     },
     "execution_count": 5,
     "metadata": {},
     "output_type": "execute_result"
    }
   ],
   "source": [
    "df.resample(\"A\").last()"
   ]
  },
  {
   "cell_type": "code",
   "execution_count": 6,
   "metadata": {},
   "outputs": [
    {
     "data": {
      "text/html": [
       "<div>\n",
       "<style scoped>\n",
       "    .dataframe tbody tr th:only-of-type {\n",
       "        vertical-align: middle;\n",
       "    }\n",
       "\n",
       "    .dataframe tbody tr th {\n",
       "        vertical-align: top;\n",
       "    }\n",
       "\n",
       "    .dataframe thead th {\n",
       "        text-align: right;\n",
       "    }\n",
       "</style>\n",
       "<table border=\"1\" class=\"dataframe\">\n",
       "  <thead>\n",
       "    <tr style=\"text-align: right;\">\n",
       "      <th></th>\n",
       "      <th>Open</th>\n",
       "      <th>High</th>\n",
       "      <th>Low</th>\n",
       "      <th>Close</th>\n",
       "      <th>Volume</th>\n",
       "      <th>Dividends</th>\n",
       "      <th>Stock Splits</th>\n",
       "    </tr>\n",
       "  </thead>\n",
       "  <tbody>\n",
       "    <tr>\n",
       "      <th>count</th>\n",
       "      <td>1257.000000</td>\n",
       "      <td>1257.000000</td>\n",
       "      <td>1257.000000</td>\n",
       "      <td>1257.000000</td>\n",
       "      <td>1.257000e+03</td>\n",
       "      <td>1257.000000</td>\n",
       "      <td>1257.000000</td>\n",
       "    </tr>\n",
       "    <tr>\n",
       "      <th>mean</th>\n",
       "      <td>161.312650</td>\n",
       "      <td>163.134748</td>\n",
       "      <td>159.634389</td>\n",
       "      <td>161.473561</td>\n",
       "      <td>8.262163e+07</td>\n",
       "      <td>0.003644</td>\n",
       "      <td>0.003182</td>\n",
       "    </tr>\n",
       "    <tr>\n",
       "      <th>std</th>\n",
       "      <td>40.030788</td>\n",
       "      <td>40.323913</td>\n",
       "      <td>39.789545</td>\n",
       "      <td>40.097970</td>\n",
       "      <td>4.270935e+07</td>\n",
       "      <td>0.028734</td>\n",
       "      <td>0.112822</td>\n",
       "    </tr>\n",
       "    <tr>\n",
       "      <th>min</th>\n",
       "      <td>66.399409</td>\n",
       "      <td>67.440504</td>\n",
       "      <td>66.057238</td>\n",
       "      <td>66.744011</td>\n",
       "      <td>2.323470e+07</td>\n",
       "      <td>0.000000</td>\n",
       "      <td>0.000000</td>\n",
       "    </tr>\n",
       "    <tr>\n",
       "      <th>25%</th>\n",
       "      <td>133.135203</td>\n",
       "      <td>134.648366</td>\n",
       "      <td>131.475521</td>\n",
       "      <td>133.516235</td>\n",
       "      <td>5.319740e+07</td>\n",
       "      <td>0.000000</td>\n",
       "      <td>0.000000</td>\n",
       "    </tr>\n",
       "    <tr>\n",
       "      <th>50%</th>\n",
       "      <td>158.675493</td>\n",
       "      <td>160.847901</td>\n",
       "      <td>156.868198</td>\n",
       "      <td>159.155090</td>\n",
       "      <td>7.204480e+07</td>\n",
       "      <td>0.000000</td>\n",
       "      <td>0.000000</td>\n",
       "    </tr>\n",
       "    <tr>\n",
       "      <th>75%</th>\n",
       "      <td>185.121370</td>\n",
       "      <td>186.483225</td>\n",
       "      <td>183.110623</td>\n",
       "      <td>185.287552</td>\n",
       "      <td>9.832200e+07</td>\n",
       "      <td>0.000000</td>\n",
       "      <td>0.000000</td>\n",
       "    </tr>\n",
       "    <tr>\n",
       "      <th>max</th>\n",
       "      <td>257.906429</td>\n",
       "      <td>259.814335</td>\n",
       "      <td>257.347047</td>\n",
       "      <td>258.735504</td>\n",
       "      <td>3.743368e+08</td>\n",
       "      <td>0.250000</td>\n",
       "      <td>4.000000</td>\n",
       "    </tr>\n",
       "  </tbody>\n",
       "</table>\n",
       "</div>"
      ],
      "text/plain": [
       "              Open         High          Low        Close        Volume  \\\n",
       "count  1257.000000  1257.000000  1257.000000  1257.000000  1.257000e+03   \n",
       "mean    161.312650   163.134748   159.634389   161.473561  8.262163e+07   \n",
       "std      40.030788    40.323913    39.789545    40.097970  4.270935e+07   \n",
       "min      66.399409    67.440504    66.057238    66.744011  2.323470e+07   \n",
       "25%     133.135203   134.648366   131.475521   133.516235  5.319740e+07   \n",
       "50%     158.675493   160.847901   156.868198   159.155090  7.204480e+07   \n",
       "75%     185.121370   186.483225   183.110623   185.287552  9.832200e+07   \n",
       "max     257.906429   259.814335   257.347047   258.735504  3.743368e+08   \n",
       "\n",
       "         Dividends  Stock Splits  \n",
       "count  1257.000000   1257.000000  \n",
       "mean      0.003644      0.003182  \n",
       "std       0.028734      0.112822  \n",
       "min       0.000000      0.000000  \n",
       "25%       0.000000      0.000000  \n",
       "50%       0.000000      0.000000  \n",
       "75%       0.000000      0.000000  \n",
       "max       0.250000      4.000000  "
      ]
     },
     "execution_count": 6,
     "metadata": {},
     "output_type": "execute_result"
    }
   ],
   "source": [
    "df.describe()"
   ]
  },
  {
   "cell_type": "code",
   "execution_count": 7,
   "metadata": {},
   "outputs": [
    {
     "name": "stdout",
     "output_type": "stream",
     "text": [
      "<class 'pandas.core.frame.DataFrame'>\n",
      "DatetimeIndex: 1257 entries, 2020-04-22 00:00:00-04:00 to 2025-04-22 00:00:00-04:00\n",
      "Data columns (total 7 columns):\n",
      " #   Column        Non-Null Count  Dtype  \n",
      "---  ------        --------------  -----  \n",
      " 0   Open          1257 non-null   float64\n",
      " 1   High          1257 non-null   float64\n",
      " 2   Low           1257 non-null   float64\n",
      " 3   Close         1257 non-null   float64\n",
      " 4   Volume        1257 non-null   int64  \n",
      " 5   Dividends     1257 non-null   float64\n",
      " 6   Stock Splits  1257 non-null   float64\n",
      "dtypes: float64(6), int64(1)\n",
      "memory usage: 78.6 KB\n"
     ]
    }
   ],
   "source": [
    "df.info()"
   ]
  },
  {
   "cell_type": "code",
   "execution_count": 8,
   "metadata": {},
   "outputs": [],
   "source": [
    "h5 = pd.HDFStore(\"data/data.h5\", \"w\")\n",
    "h5[\"data\"] = df\n",
    "h5.close()"
   ]
  },
  {
   "cell_type": "code",
   "execution_count": 9,
   "metadata": {},
   "outputs": [
    {
     "data": {
      "text/plain": [
       "\"<class 'pandas.io.pytables.HDFStore'>\\nFile path: data/data.h5\\nFile is CLOSED\""
      ]
     },
     "execution_count": 9,
     "metadata": {},
     "output_type": "execute_result"
    }
   ],
   "source": [
    "h5.info()"
   ]
  },
  {
   "cell_type": "code",
   "execution_count": 10,
   "metadata": {},
   "outputs": [
    {
     "name": "stdout",
     "output_type": "stream",
     "text": [
      "<class 'pandas.core.frame.DataFrame'>\n",
      "DatetimeIndex: 1257 entries, 2020-04-22 00:00:00-04:00 to 2025-04-22 00:00:00-04:00\n",
      "Data columns (total 7 columns):\n",
      " #   Column        Non-Null Count  Dtype  \n",
      "---  ------        --------------  -----  \n",
      " 0   Open          1257 non-null   float64\n",
      " 1   High          1257 non-null   float64\n",
      " 2   Low           1257 non-null   float64\n",
      " 3   Close         1257 non-null   float64\n",
      " 4   Volume        1257 non-null   int64  \n",
      " 5   Dividends     1257 non-null   float64\n",
      " 6   Stock Splits  1257 non-null   float64\n",
      "dtypes: float64(6), int64(1)\n",
      "memory usage: 78.6 KB\n"
     ]
    }
   ],
   "source": [
    "h5 = pd.HDFStore('data/data.h5', 'r')\n",
    "data_copy = h5['data']\n",
    "data_copy.info()\n",
    "h5.close()"
   ]
  },
  {
   "cell_type": "code",
   "execution_count": 11,
   "metadata": {},
   "outputs": [
    {
     "name": "stderr",
     "output_type": "stream",
     "text": [
      "/tmp/ipykernel_19/3172209247.py:2: FutureWarning: Starting with pandas version 3.0 all arguments of to_hdf except for the argument 'path_or_buf' will be keyword-only.\n",
      "  df.to_hdf(\"data/data.h5\", \"data\", format=\"table\")\n"
     ]
    }
   ],
   "source": [
    "# this apparently requires more overhead\n",
    "df.to_hdf(\"data/data.h5\", \"data\", format=\"table\")\n",
    "# however, we can work with it on disk as if it was a normal pytable"
   ]
  },
  {
   "cell_type": "code",
   "execution_count": 13,
   "metadata": {},
   "outputs": [],
   "source": [
    "import tables as tb"
   ]
  },
  {
   "cell_type": "code",
   "execution_count": 15,
   "metadata": {},
   "outputs": [
    {
     "data": {
      "text/plain": [
       "File(filename=data/data.h5, title='', mode='r', root_uep='/', filters=Filters(complevel=0, shuffle=False, bitshuffle=False, fletcher32=False, least_significant_digit=None))\n",
       "/ (RootGroup) ''\n",
       "/data (Group) ''\n",
       "/data/table (Table(1257,)) ''\n",
       "  description := {\n",
       "  \"index\": Int64Col(shape=(), dflt=0, pos=0),\n",
       "  \"values_block_0\": Float64Col(shape=(6,), dflt=0.0, pos=1),\n",
       "  \"values_block_1\": Int64Col(shape=(1,), dflt=0, pos=2)}\n",
       "  byteorder := 'little'\n",
       "  chunkshape := (1024,)\n",
       "  autoindex := True\n",
       "  colindexes := {\n",
       "    \"index\": Index(6, mediumshuffle, zlib(1)).is_csi=False}"
      ]
     },
     "execution_count": 15,
     "metadata": {},
     "output_type": "execute_result"
    }
   ],
   "source": [
    "h5 = tb.open_file(\"data/data.h5\", \"r\")\n",
    "h5"
   ]
  },
  {
   "cell_type": "code",
   "execution_count": 17,
   "metadata": {},
   "outputs": [
    {
     "data": {
      "text/plain": [
       "array([(1587528000000000000, [66.39940915, 67.44050431, 66.05723821, 67.003685  ,  0.        ,  0.        ], [116862400]),\n",
       "       (1587614400000000000, [66.94786041, 68.37481424, 66.70518139, 66.74401093,  0.        ,  0.        ], [124814400]),\n",
       "       (1587700800000000000, [67.27062789, 68.68059241, 67.22208912, 68.67088318,  0.        ,  0.        ], [126161200])],\n",
       "      dtype=[('index', '<i8'), ('values_block_0', '<f8', (6,)), ('values_block_1', '<i8', (1,))])"
      ]
     },
     "execution_count": 17,
     "metadata": {},
     "output_type": "execute_result"
    }
   ],
   "source": [
    "h5.root.data.table[:3]"
   ]
  },
  {
   "cell_type": "code",
   "execution_count": 18,
   "metadata": {},
   "outputs": [],
   "source": [
    "h5.close()"
   ]
  },
  {
   "cell_type": "markdown",
   "metadata": {},
   "source": [
    "both are ways to work with immutable data that can fit into memory"
   ]
  },
  {
   "cell_type": "code",
   "execution_count": 20,
   "metadata": {},
   "outputs": [],
   "source": [
    "from sample_data import generate_sample_data"
   ]
  },
  {
   "cell_type": "markdown",
   "metadata": {},
   "source": [
    "This generates a sample financial data set with 2,500,000 rows and five columns with a one second frequency; the sample data is rounded to two digits."
   ]
  },
  {
   "cell_type": "code",
   "execution_count": 21,
   "metadata": {},
   "outputs": [
    {
     "name": "stdout",
     "output_type": "stream",
     "text": [
      "CPU times: user 313 ms, sys: 69.3 ms, total: 382 ms\n",
      "Wall time: 385 ms\n"
     ]
    }
   ],
   "source": [
    "%%time\n",
    "data = generate_sample_data(rows=2.5e6, cols=5, freq='1s').round(4)"
   ]
  },
  {
   "cell_type": "code",
   "execution_count": 23,
   "metadata": {},
   "outputs": [
    {
     "name": "stdout",
     "output_type": "stream",
     "text": [
      "<class 'pandas.core.frame.DataFrame'>\n",
      "DatetimeIndex: 2500000 entries, 2021-01-01 00:00:00 to 2021-01-29 22:26:39\n",
      "Freq: s\n",
      "Data columns (total 5 columns):\n",
      " #   Column  Dtype  \n",
      "---  ------  -----  \n",
      " 0   No0     float64\n",
      " 1   No1     float64\n",
      " 2   No2     float64\n",
      " 3   No3     float64\n",
      " 4   No4     float64\n",
      "dtypes: float64(5)\n",
      "memory usage: 114.4 MB\n"
     ]
    }
   ],
   "source": [
    "data.info()"
   ]
  },
  {
   "cell_type": "code",
   "execution_count": 25,
   "metadata": {},
   "outputs": [
    {
     "name": "stdout",
     "output_type": "stream",
     "text": [
      "Collecting git+https://github.com/yhilpisch/tstables\n",
      "  Cloning https://github.com/yhilpisch/tstables to /tmp/pip-req-build-0qclgoec\n",
      "  Running command git clone --filter=blob:none --quiet https://github.com/yhilpisch/tstables /tmp/pip-req-build-0qclgoec\n",
      "  Resolved https://github.com/yhilpisch/tstables to commit 920af20fe3a7bcb2ebf956c6a412f50faf037b81\n",
      "  Preparing metadata (setup.py) ... \u001b[?25ldone\n",
      "\u001b[?25hRequirement already satisfied: tables>=3.1.1 in /opt/conda/envs/py310/lib/python3.10/site-packages (from tstables==0.0.15) (3.10.1)\n",
      "Requirement already satisfied: pandas>=0.13.1 in /opt/conda/envs/py310/lib/python3.10/site-packages (from tstables==0.0.15) (2.2.3)\n",
      "Requirement already satisfied: numpy>=1.22.4 in /opt/conda/envs/py310/lib/python3.10/site-packages (from pandas>=0.13.1->tstables==0.0.15) (1.26.4)\n",
      "Requirement already satisfied: python-dateutil>=2.8.2 in /opt/conda/envs/py310/lib/python3.10/site-packages (from pandas>=0.13.1->tstables==0.0.15) (2.9.0.post0)\n",
      "Requirement already satisfied: pytz>=2020.1 in /opt/conda/envs/py310/lib/python3.10/site-packages (from pandas>=0.13.1->tstables==0.0.15) (2024.1)\n",
      "Requirement already satisfied: tzdata>=2022.7 in /opt/conda/envs/py310/lib/python3.10/site-packages (from pandas>=0.13.1->tstables==0.0.15) (2023.3)\n",
      "Requirement already satisfied: numexpr>=2.6.2 in /opt/conda/envs/py310/lib/python3.10/site-packages (from tables>=3.1.1->tstables==0.0.15) (2.10.1)\n",
      "Requirement already satisfied: packaging in /opt/conda/envs/py310/lib/python3.10/site-packages (from tables>=3.1.1->tstables==0.0.15) (24.2)\n",
      "Requirement already satisfied: py-cpuinfo in /opt/conda/envs/py310/lib/python3.10/site-packages (from tables>=3.1.1->tstables==0.0.15) (9.0.0)\n",
      "Requirement already satisfied: typing-extensions>=4.4.0 in /opt/conda/envs/py310/lib/python3.10/site-packages (from tables>=3.1.1->tstables==0.0.15) (4.12.2)\n",
      "Requirement already satisfied: six>=1.5 in /opt/conda/envs/py310/lib/python3.10/site-packages (from python-dateutil>=2.8.2->pandas>=0.13.1->tstables==0.0.15) (1.17.0)\n",
      "Building wheels for collected packages: tstables\n",
      "  Building wheel for tstables (setup.py) ... \u001b[?25ldone\n",
      "\u001b[?25h  Created wheel for tstables: filename=tstables-0.0.15-py3-none-any.whl size=10348 sha256=8fef62fa8f31a75ba186715ca15215c1b919070d5d991e9703f3096a838af463\n",
      "  Stored in directory: /tmp/pip-ephem-wheel-cache-lnzyb0ah/wheels/e5/d0/6d/8158c75995155e71b448099639be8ea6b8bb1c6e3b1e88ecd4\n",
      "Successfully built tstables\n",
      "Installing collected packages: tstables\n",
      "Successfully installed tstables-0.0.15\n",
      "\u001b[33mWARNING: Running pip as the 'root' user can result in broken permissions and conflicting behaviour with the system package manager, possibly rendering your system unusable. It is recommended to use a virtual environment instead: https://pip.pypa.io/warnings/venv. Use the --root-user-action option if you know what you are doing and want to suppress this warning.\u001b[0m\u001b[33m\n",
      "\u001b[0mNote: you may need to restart the kernel to use updated packages.\n"
     ]
    }
   ],
   "source": [
    "%pip install git+https://github.com/yhilpisch/tstables"
   ]
  },
  {
   "cell_type": "code",
   "execution_count": 26,
   "metadata": {},
   "outputs": [],
   "source": [
    "import tstables\n",
    "import tables as tb"
   ]
  },
  {
   "cell_type": "markdown",
   "metadata": {},
   "source": [
    "The first column of the table is a timestamp represented as an int value.\n",
    "\n",
    "All data columns contain float values."
   ]
  },
  {
   "cell_type": "code",
   "execution_count": 38,
   "metadata": {},
   "outputs": [],
   "source": [
    "class MyTable(tb.IsDescription):\n",
    "    timestamp = tb.Int64Col(pos=0)\n",
    "    no0 = tb.Float64Col(pos=1)\n",
    "    no1 = tb.Float64Col(pos=2)\n",
    "    no2 = tb.Float64Col(pos=3)\n",
    "    no3 = tb.Float64Col(pos=4)\n",
    "    no4 = tb.Float64Col(pos=5)"
   ]
  },
  {
   "cell_type": "code",
   "execution_count": 42,
   "metadata": {},
   "outputs": [],
   "source": [
    "h5.close()"
   ]
  },
  {
   "cell_type": "markdown",
   "metadata": {},
   "source": [
    "data is structued in years, months, days"
   ]
  },
  {
   "cell_type": "code",
   "execution_count": null,
   "metadata": {},
   "outputs": [
    {
     "data": {
      "text/plain": [
       "File(filename=data/data.h5ts, title='', mode='w', root_uep='/', filters=Filters(complevel=0, shuffle=False, bitshuffle=False, fletcher32=False, least_significant_digit=None))\n",
       "/ (RootGroup) ''\n",
       "/data (Group/Timeseries) ''\n",
       "/data/y2025 (Group) ''\n",
       "/data/y2025/m04 (Group) ''\n",
       "/data/y2025/m04/d22 (Group) ''\n",
       "/data/y2025/m04/d22/ts_data (Table(0,)) ''\n",
       "  description := {\n",
       "  \"timestamp\": Int64Col(shape=(), dflt=0, pos=0),\n",
       "  \"no0\": Float64Col(shape=(), dflt=0.0, pos=1),\n",
       "  \"no1\": Float64Col(shape=(), dflt=0.0, pos=2),\n",
       "  \"no2\": Float64Col(shape=(), dflt=0.0, pos=3),\n",
       "  \"no3\": Float64Col(shape=(), dflt=0.0, pos=4),\n",
       "  \"no4\": Float64Col(shape=(), dflt=0.0, pos=5)}\n",
       "  byteorder := 'little'\n",
       "  chunkshape := (1365,)"
      ]
     },
     "execution_count": 43,
     "metadata": {},
     "output_type": "execute_result"
    }
   ],
   "source": [
    "h5 = tb.open_file(\"data/data.h5ts\", \"w\") # This opens a new database file for writing.\n",
    "ts = h5.create_ts('/', 'data', MyTable) # The TsTables table is created at the root node, with name data and given the class-based description desc.\n",
    "h5"
   ]
  },
  {
   "cell_type": "markdown",
   "metadata": {},
   "source": [
    "ts tables makes it easy to write this data to disk with a single call. apparently TsTables supports typical algorithmic trading applications, like backtesting, pretty well."
   ]
  },
  {
   "cell_type": "code",
   "execution_count": null,
   "metadata": {},
   "outputs": [
    {
     "name": "stdout",
     "output_type": "stream",
     "text": [
      "CPU times: user 183 ms, sys: 155 ms, total: 339 ms\n",
      "Wall time: 584 ms\n"
     ]
    }
   ],
   "source": [
    "%time ts.append(data) # appends the dataframe object"
   ]
  },
  {
   "cell_type": "code",
   "execution_count": 45,
   "metadata": {},
   "outputs": [
    {
     "data": {
      "text/plain": [
       "File(filename=data/data.h5ts, title='', mode='w', root_uep='/', filters=Filters(complevel=0, shuffle=False, bitshuffle=False, fletcher32=False, least_significant_digit=None))\n",
       "/ (RootGroup) ''\n",
       "/data (Group/Timeseries) ''\n",
       "/data/y2021 (Group) ''\n",
       "/data/y2025 (Group) ''\n",
       "/data/y2025/m04 (Group) ''\n",
       "/data/y2025/m04/d22 (Group) ''\n",
       "/data/y2025/m04/d22/ts_data (Table(0,)) ''\n",
       "  description := {\n",
       "  \"timestamp\": Int64Col(shape=(), dflt=0, pos=0),\n",
       "  \"no0\": Float64Col(shape=(), dflt=0.0, pos=1),\n",
       "  \"no1\": Float64Col(shape=(), dflt=0.0, pos=2),\n",
       "  \"no2\": Float64Col(shape=(), dflt=0.0, pos=3),\n",
       "  \"no3\": Float64Col(shape=(), dflt=0.0, pos=4),\n",
       "  \"no4\": Float64Col(shape=(), dflt=0.0, pos=5)}\n",
       "  byteorder := 'little'\n",
       "  chunkshape := (1365,)\n",
       "/data/y2021/m01 (Group) ''\n",
       "/data/y2021/m01/d01 (Group) ''\n",
       "/data/y2021/m01/d01/ts_data (Table(86400,)) ''\n",
       "  description := {\n",
       "  \"timestamp\": Int64Col(shape=(), dflt=0, pos=0),\n",
       "  \"no0\": Float64Col(shape=(), dflt=0.0, pos=1),\n",
       "  \"no1\": Float64Col(shape=(), dflt=0.0, pos=2),\n",
       "  \"no2\": Float64Col(shape=(), dflt=0.0, pos=3),\n",
       "  \"no3\": Float64Col(shape=(), dflt=0.0, pos=4),\n",
       "  \"no4\": Float64Col(shape=(), dflt=0.0, pos=5)}\n",
       "  byteorder := 'little'\n",
       "  chunkshape := (1365,)\n",
       "/data/y2021/m01/d02 (Group) ''\n",
       "/data/y2021/m01/d02/ts_data (Table(86400,)) ''\n",
       "  description := {\n",
       "  \"timestamp\": Int64Col(shape=(), dflt=0, pos=0),\n",
       "  \"no0\": Float64Col(shape=(), dflt=0.0, pos=1),\n",
       "  \"no1\": Float64Col(shape=(), dflt=0.0, pos=2),\n",
       "  \"no2\": Float64Col(shape=(), dflt=0.0, pos=3),\n",
       "  \"no3\": Float64Col(shape=(), dflt=0.0, pos=4),\n",
       "  \"no4\": Float64Col(shape=(), dflt=0.0, pos=5)}\n",
       "  byteorder := 'little'\n",
       "  chunkshape := (1365,)\n",
       "/data/y2021/m01/d03 (Group) ''\n",
       "/data/y2021/m01/d03/ts_data (Table(86400,)) ''\n",
       "  description := {\n",
       "  \"timestamp\": Int64Col(shape=(), dflt=0, pos=0),\n",
       "  \"no0\": Float64Col(shape=(), dflt=0.0, pos=1),\n",
       "  \"no1\": Float64Col(shape=(), dflt=0.0, pos=2),\n",
       "  \"no2\": Float64Col(shape=(), dflt=0.0, pos=3),\n",
       "  \"no3\": Float64Col(shape=(), dflt=0.0, pos=4),\n",
       "  \"no4\": Float64Col(shape=(), dflt=0.0, pos=5)}\n",
       "  byteorder := 'little'\n",
       "  chunkshape := (1365,)\n",
       "/data/y2021/m01/d04 (Group) ''\n",
       "/data/y2021/m01/d04/ts_data (Table(86400,)) ''\n",
       "  description := {\n",
       "  \"timestamp\": Int64Col(shape=(), dflt=0, pos=0),\n",
       "  \"no0\": Float64Col(shape=(), dflt=0.0, pos=1),\n",
       "  \"no1\": Float64Col(shape=(), dflt=0.0, pos=2),\n",
       "  \"no2\": Float64Col(shape=(), dflt=0.0, pos=3),\n",
       "  \"no3\": Float64Col(shape=(), dflt=0.0, pos=4),\n",
       "  \"no4\": Float64Col(shape=(), dflt=0.0, pos=5)}\n",
       "  byteorder := 'little'\n",
       "  chunkshape := (1365,)\n",
       "/data/y2021/m01/d05 (Group) ''\n",
       "/data/y2021/m01/d05/ts_data (Table(86400,)) ''\n",
       "  description := {\n",
       "  \"timestamp\": Int64Col(shape=(), dflt=0, pos=0),\n",
       "  \"no0\": Float64Col(shape=(), dflt=0.0, pos=1),\n",
       "  \"no1\": Float64Col(shape=(), dflt=0.0, pos=2),\n",
       "  \"no2\": Float64Col(shape=(), dflt=0.0, pos=3),\n",
       "  \"no3\": Float64Col(shape=(), dflt=0.0, pos=4),\n",
       "  \"no4\": Float64Col(shape=(), dflt=0.0, pos=5)}\n",
       "  byteorder := 'little'\n",
       "  chunkshape := (1365,)\n",
       "/data/y2021/m01/d06 (Group) ''\n",
       "/data/y2021/m01/d06/ts_data (Table(86400,)) ''\n",
       "  description := {\n",
       "  \"timestamp\": Int64Col(shape=(), dflt=0, pos=0),\n",
       "  \"no0\": Float64Col(shape=(), dflt=0.0, pos=1),\n",
       "  \"no1\": Float64Col(shape=(), dflt=0.0, pos=2),\n",
       "  \"no2\": Float64Col(shape=(), dflt=0.0, pos=3),\n",
       "  \"no3\": Float64Col(shape=(), dflt=0.0, pos=4),\n",
       "  \"no4\": Float64Col(shape=(), dflt=0.0, pos=5)}\n",
       "  byteorder := 'little'\n",
       "  chunkshape := (1365,)\n",
       "/data/y2021/m01/d07 (Group) ''\n",
       "/data/y2021/m01/d07/ts_data (Table(86400,)) ''\n",
       "  description := {\n",
       "  \"timestamp\": Int64Col(shape=(), dflt=0, pos=0),\n",
       "  \"no0\": Float64Col(shape=(), dflt=0.0, pos=1),\n",
       "  \"no1\": Float64Col(shape=(), dflt=0.0, pos=2),\n",
       "  \"no2\": Float64Col(shape=(), dflt=0.0, pos=3),\n",
       "  \"no3\": Float64Col(shape=(), dflt=0.0, pos=4),\n",
       "  \"no4\": Float64Col(shape=(), dflt=0.0, pos=5)}\n",
       "  byteorder := 'little'\n",
       "  chunkshape := (1365,)\n",
       "/data/y2021/m01/d08 (Group) ''\n",
       "/data/y2021/m01/d08/ts_data (Table(86400,)) ''\n",
       "  description := {\n",
       "  \"timestamp\": Int64Col(shape=(), dflt=0, pos=0),\n",
       "  \"no0\": Float64Col(shape=(), dflt=0.0, pos=1),\n",
       "  \"no1\": Float64Col(shape=(), dflt=0.0, pos=2),\n",
       "  \"no2\": Float64Col(shape=(), dflt=0.0, pos=3),\n",
       "  \"no3\": Float64Col(shape=(), dflt=0.0, pos=4),\n",
       "  \"no4\": Float64Col(shape=(), dflt=0.0, pos=5)}\n",
       "  byteorder := 'little'\n",
       "  chunkshape := (1365,)\n",
       "/data/y2021/m01/d09 (Group) ''\n",
       "/data/y2021/m01/d09/ts_data (Table(86400,)) ''\n",
       "  description := {\n",
       "  \"timestamp\": Int64Col(shape=(), dflt=0, pos=0),\n",
       "  \"no0\": Float64Col(shape=(), dflt=0.0, pos=1),\n",
       "  \"no1\": Float64Col(shape=(), dflt=0.0, pos=2),\n",
       "  \"no2\": Float64Col(shape=(), dflt=0.0, pos=3),\n",
       "  \"no3\": Float64Col(shape=(), dflt=0.0, pos=4),\n",
       "  \"no4\": Float64Col(shape=(), dflt=0.0, pos=5)}\n",
       "  byteorder := 'little'\n",
       "  chunkshape := (1365,)\n",
       "/data/y2021/m01/d10 (Group) ''\n",
       "/data/y2021/m01/d10/ts_data (Table(86400,)) ''\n",
       "  description := {\n",
       "  \"timestamp\": Int64Col(shape=(), dflt=0, pos=0),\n",
       "  \"no0\": Float64Col(shape=(), dflt=0.0, pos=1),\n",
       "  \"no1\": Float64Col(shape=(), dflt=0.0, pos=2),\n",
       "  \"no2\": Float64Col(shape=(), dflt=0.0, pos=3),\n",
       "  \"no3\": Float64Col(shape=(), dflt=0.0, pos=4),\n",
       "  \"no4\": Float64Col(shape=(), dflt=0.0, pos=5)}\n",
       "  byteorder := 'little'\n",
       "  chunkshape := (1365,)\n",
       "/data/y2021/m01/d11 (Group) ''\n",
       "/data/y2021/m01/d11/ts_data (Table(86400,)) ''\n",
       "  description := {\n",
       "  \"timestamp\": Int64Col(shape=(), dflt=0, pos=0),\n",
       "  \"no0\": Float64Col(shape=(), dflt=0.0, pos=1),\n",
       "  \"no1\": Float64Col(shape=(), dflt=0.0, pos=2),\n",
       "  \"no2\": Float64Col(shape=(), dflt=0.0, pos=3),\n",
       "  \"no3\": Float64Col(shape=(), dflt=0.0, pos=4),\n",
       "  \"no4\": Float64Col(shape=(), dflt=0.0, pos=5)}\n",
       "  byteorder := 'little'\n",
       "  chunkshape := (1365,)\n",
       "/data/y2021/m01/d12 (Group) ''\n",
       "/data/y2021/m01/d12/ts_data (Table(86400,)) ''\n",
       "  description := {\n",
       "  \"timestamp\": Int64Col(shape=(), dflt=0, pos=0),\n",
       "  \"no0\": Float64Col(shape=(), dflt=0.0, pos=1),\n",
       "  \"no1\": Float64Col(shape=(), dflt=0.0, pos=2),\n",
       "  \"no2\": Float64Col(shape=(), dflt=0.0, pos=3),\n",
       "  \"no3\": Float64Col(shape=(), dflt=0.0, pos=4),\n",
       "  \"no4\": Float64Col(shape=(), dflt=0.0, pos=5)}\n",
       "  byteorder := 'little'\n",
       "  chunkshape := (1365,)\n",
       "/data/y2021/m01/d13 (Group) ''\n",
       "/data/y2021/m01/d13/ts_data (Table(86400,)) ''\n",
       "  description := {\n",
       "  \"timestamp\": Int64Col(shape=(), dflt=0, pos=0),\n",
       "  \"no0\": Float64Col(shape=(), dflt=0.0, pos=1),\n",
       "  \"no1\": Float64Col(shape=(), dflt=0.0, pos=2),\n",
       "  \"no2\": Float64Col(shape=(), dflt=0.0, pos=3),\n",
       "  \"no3\": Float64Col(shape=(), dflt=0.0, pos=4),\n",
       "  \"no4\": Float64Col(shape=(), dflt=0.0, pos=5)}\n",
       "  byteorder := 'little'\n",
       "  chunkshape := (1365,)\n",
       "/data/y2021/m01/d14 (Group) ''\n",
       "/data/y2021/m01/d14/ts_data (Table(86400,)) ''\n",
       "  description := {\n",
       "  \"timestamp\": Int64Col(shape=(), dflt=0, pos=0),\n",
       "  \"no0\": Float64Col(shape=(), dflt=0.0, pos=1),\n",
       "  \"no1\": Float64Col(shape=(), dflt=0.0, pos=2),\n",
       "  \"no2\": Float64Col(shape=(), dflt=0.0, pos=3),\n",
       "  \"no3\": Float64Col(shape=(), dflt=0.0, pos=4),\n",
       "  \"no4\": Float64Col(shape=(), dflt=0.0, pos=5)}\n",
       "  byteorder := 'little'\n",
       "  chunkshape := (1365,)\n",
       "/data/y2021/m01/d15 (Group) ''\n",
       "/data/y2021/m01/d15/ts_data (Table(86400,)) ''\n",
       "  description := {\n",
       "  \"timestamp\": Int64Col(shape=(), dflt=0, pos=0),\n",
       "  \"no0\": Float64Col(shape=(), dflt=0.0, pos=1),\n",
       "  \"no1\": Float64Col(shape=(), dflt=0.0, pos=2),\n",
       "  \"no2\": Float64Col(shape=(), dflt=0.0, pos=3),\n",
       "  \"no3\": Float64Col(shape=(), dflt=0.0, pos=4),\n",
       "  \"no4\": Float64Col(shape=(), dflt=0.0, pos=5)}\n",
       "  byteorder := 'little'\n",
       "  chunkshape := (1365,)\n",
       "/data/y2021/m01/d16 (Group) ''\n",
       "/data/y2021/m01/d16/ts_data (Table(86400,)) ''\n",
       "  description := {\n",
       "  \"timestamp\": Int64Col(shape=(), dflt=0, pos=0),\n",
       "  \"no0\": Float64Col(shape=(), dflt=0.0, pos=1),\n",
       "  \"no1\": Float64Col(shape=(), dflt=0.0, pos=2),\n",
       "  \"no2\": Float64Col(shape=(), dflt=0.0, pos=3),\n",
       "  \"no3\": Float64Col(shape=(), dflt=0.0, pos=4),\n",
       "  \"no4\": Float64Col(shape=(), dflt=0.0, pos=5)}\n",
       "  byteorder := 'little'\n",
       "  chunkshape := (1365,)\n",
       "/data/y2021/m01/d17 (Group) ''\n",
       "/data/y2021/m01/d17/ts_data (Table(86400,)) ''\n",
       "  description := {\n",
       "  \"timestamp\": Int64Col(shape=(), dflt=0, pos=0),\n",
       "  \"no0\": Float64Col(shape=(), dflt=0.0, pos=1),\n",
       "  \"no1\": Float64Col(shape=(), dflt=0.0, pos=2),\n",
       "  \"no2\": Float64Col(shape=(), dflt=0.0, pos=3),\n",
       "  \"no3\": Float64Col(shape=(), dflt=0.0, pos=4),\n",
       "  \"no4\": Float64Col(shape=(), dflt=0.0, pos=5)}\n",
       "  byteorder := 'little'\n",
       "  chunkshape := (1365,)\n",
       "/data/y2021/m01/d18 (Group) ''\n",
       "/data/y2021/m01/d18/ts_data (Table(86400,)) ''\n",
       "  description := {\n",
       "  \"timestamp\": Int64Col(shape=(), dflt=0, pos=0),\n",
       "  \"no0\": Float64Col(shape=(), dflt=0.0, pos=1),\n",
       "  \"no1\": Float64Col(shape=(), dflt=0.0, pos=2),\n",
       "  \"no2\": Float64Col(shape=(), dflt=0.0, pos=3),\n",
       "  \"no3\": Float64Col(shape=(), dflt=0.0, pos=4),\n",
       "  \"no4\": Float64Col(shape=(), dflt=0.0, pos=5)}\n",
       "  byteorder := 'little'\n",
       "  chunkshape := (1365,)\n",
       "/data/y2021/m01/d19 (Group) ''\n",
       "/data/y2021/m01/d19/ts_data (Table(86400,)) ''\n",
       "  description := {\n",
       "  \"timestamp\": Int64Col(shape=(), dflt=0, pos=0),\n",
       "  \"no0\": Float64Col(shape=(), dflt=0.0, pos=1),\n",
       "  \"no1\": Float64Col(shape=(), dflt=0.0, pos=2),\n",
       "  \"no2\": Float64Col(shape=(), dflt=0.0, pos=3),\n",
       "  \"no3\": Float64Col(shape=(), dflt=0.0, pos=4),\n",
       "  \"no4\": Float64Col(shape=(), dflt=0.0, pos=5)}\n",
       "  byteorder := 'little'\n",
       "  chunkshape := (1365,)\n",
       "/data/y2021/m01/d20 (Group) ''\n",
       "/data/y2021/m01/d20/ts_data (Table(86400,)) ''\n",
       "  description := {\n",
       "  \"timestamp\": Int64Col(shape=(), dflt=0, pos=0),\n",
       "  \"no0\": Float64Col(shape=(), dflt=0.0, pos=1),\n",
       "  \"no1\": Float64Col(shape=(), dflt=0.0, pos=2),\n",
       "  \"no2\": Float64Col(shape=(), dflt=0.0, pos=3),\n",
       "  \"no3\": Float64Col(shape=(), dflt=0.0, pos=4),\n",
       "  \"no4\": Float64Col(shape=(), dflt=0.0, pos=5)}\n",
       "  byteorder := 'little'\n",
       "  chunkshape := (1365,)\n",
       "/data/y2021/m01/d21 (Group) ''\n",
       "/data/y2021/m01/d21/ts_data (Table(86400,)) ''\n",
       "  description := {\n",
       "  \"timestamp\": Int64Col(shape=(), dflt=0, pos=0),\n",
       "  \"no0\": Float64Col(shape=(), dflt=0.0, pos=1),\n",
       "  \"no1\": Float64Col(shape=(), dflt=0.0, pos=2),\n",
       "  \"no2\": Float64Col(shape=(), dflt=0.0, pos=3),\n",
       "  \"no3\": Float64Col(shape=(), dflt=0.0, pos=4),\n",
       "  \"no4\": Float64Col(shape=(), dflt=0.0, pos=5)}\n",
       "  byteorder := 'little'\n",
       "  chunkshape := (1365,)\n",
       "/data/y2021/m01/d22 (Group) ''\n",
       "/data/y2021/m01/d22/ts_data (Table(86400,)) ''\n",
       "  description := {\n",
       "  \"timestamp\": Int64Col(shape=(), dflt=0, pos=0),\n",
       "  \"no0\": Float64Col(shape=(), dflt=0.0, pos=1),\n",
       "  \"no1\": Float64Col(shape=(), dflt=0.0, pos=2),\n",
       "  \"no2\": Float64Col(shape=(), dflt=0.0, pos=3),\n",
       "  \"no3\": Float64Col(shape=(), dflt=0.0, pos=4),\n",
       "  \"no4\": Float64Col(shape=(), dflt=0.0, pos=5)}\n",
       "  byteorder := 'little'\n",
       "  chunkshape := (1365,)\n",
       "/data/y2021/m01/d23 (Group) ''\n",
       "/data/y2021/m01/d23/ts_data (Table(86400,)) ''\n",
       "  description := {\n",
       "  \"timestamp\": Int64Col(shape=(), dflt=0, pos=0),\n",
       "  \"no0\": Float64Col(shape=(), dflt=0.0, pos=1),\n",
       "  \"no1\": Float64Col(shape=(), dflt=0.0, pos=2),\n",
       "  \"no2\": Float64Col(shape=(), dflt=0.0, pos=3),\n",
       "  \"no3\": Float64Col(shape=(), dflt=0.0, pos=4),\n",
       "  \"no4\": Float64Col(shape=(), dflt=0.0, pos=5)}\n",
       "  byteorder := 'little'\n",
       "  chunkshape := (1365,)\n",
       "/data/y2021/m01/d24 (Group) ''\n",
       "/data/y2021/m01/d24/ts_data (Table(86400,)) ''\n",
       "  description := {\n",
       "  \"timestamp\": Int64Col(shape=(), dflt=0, pos=0),\n",
       "  \"no0\": Float64Col(shape=(), dflt=0.0, pos=1),\n",
       "  \"no1\": Float64Col(shape=(), dflt=0.0, pos=2),\n",
       "  \"no2\": Float64Col(shape=(), dflt=0.0, pos=3),\n",
       "  \"no3\": Float64Col(shape=(), dflt=0.0, pos=4),\n",
       "  \"no4\": Float64Col(shape=(), dflt=0.0, pos=5)}\n",
       "  byteorder := 'little'\n",
       "  chunkshape := (1365,)\n",
       "/data/y2021/m01/d25 (Group) ''\n",
       "/data/y2021/m01/d25/ts_data (Table(86400,)) ''\n",
       "  description := {\n",
       "  \"timestamp\": Int64Col(shape=(), dflt=0, pos=0),\n",
       "  \"no0\": Float64Col(shape=(), dflt=0.0, pos=1),\n",
       "  \"no1\": Float64Col(shape=(), dflt=0.0, pos=2),\n",
       "  \"no2\": Float64Col(shape=(), dflt=0.0, pos=3),\n",
       "  \"no3\": Float64Col(shape=(), dflt=0.0, pos=4),\n",
       "  \"no4\": Float64Col(shape=(), dflt=0.0, pos=5)}\n",
       "  byteorder := 'little'\n",
       "  chunkshape := (1365,)\n",
       "/data/y2021/m01/d26 (Group) ''\n",
       "/data/y2021/m01/d26/ts_data (Table(86400,)) ''\n",
       "  description := {\n",
       "  \"timestamp\": Int64Col(shape=(), dflt=0, pos=0),\n",
       "  \"no0\": Float64Col(shape=(), dflt=0.0, pos=1),\n",
       "  \"no1\": Float64Col(shape=(), dflt=0.0, pos=2),\n",
       "  \"no2\": Float64Col(shape=(), dflt=0.0, pos=3),\n",
       "  \"no3\": Float64Col(shape=(), dflt=0.0, pos=4),\n",
       "  \"no4\": Float64Col(shape=(), dflt=0.0, pos=5)}\n",
       "  byteorder := 'little'\n",
       "  chunkshape := (1365,)\n",
       "/data/y2021/m01/d27 (Group) ''\n",
       "/data/y2021/m01/d27/ts_data (Table(86400,)) ''\n",
       "  description := {\n",
       "  \"timestamp\": Int64Col(shape=(), dflt=0, pos=0),\n",
       "  \"no0\": Float64Col(shape=(), dflt=0.0, pos=1),\n",
       "  \"no1\": Float64Col(shape=(), dflt=0.0, pos=2),\n",
       "  \"no2\": Float64Col(shape=(), dflt=0.0, pos=3),\n",
       "  \"no3\": Float64Col(shape=(), dflt=0.0, pos=4),\n",
       "  \"no4\": Float64Col(shape=(), dflt=0.0, pos=5)}\n",
       "  byteorder := 'little'\n",
       "  chunkshape := (1365,)\n",
       "/data/y2021/m01/d28 (Group) ''\n",
       "/data/y2021/m01/d28/ts_data (Table(86400,)) ''\n",
       "  description := {\n",
       "  \"timestamp\": Int64Col(shape=(), dflt=0, pos=0),\n",
       "  \"no0\": Float64Col(shape=(), dflt=0.0, pos=1),\n",
       "  \"no1\": Float64Col(shape=(), dflt=0.0, pos=2),\n",
       "  \"no2\": Float64Col(shape=(), dflt=0.0, pos=3),\n",
       "  \"no3\": Float64Col(shape=(), dflt=0.0, pos=4),\n",
       "  \"no4\": Float64Col(shape=(), dflt=0.0, pos=5)}\n",
       "  byteorder := 'little'\n",
       "  chunkshape := (1365,)\n",
       "/data/y2021/m01/d29 (Group) ''\n",
       "/data/y2021/m01/d29/ts_data (Table(80800,)) ''\n",
       "  description := {\n",
       "  \"timestamp\": Int64Col(shape=(), dflt=0, pos=0),\n",
       "  \"no0\": Float64Col(shape=(), dflt=0.0, pos=1),\n",
       "  \"no1\": Float64Col(shape=(), dflt=0.0, pos=2),\n",
       "  \"no2\": Float64Col(shape=(), dflt=0.0, pos=3),\n",
       "  \"no3\": Float64Col(shape=(), dflt=0.0, pos=4),\n",
       "  \"no4\": Float64Col(shape=(), dflt=0.0, pos=5)}\n",
       "  byteorder := 'little'\n",
       "  chunkshape := (1365,)"
      ]
     },
     "execution_count": 45,
     "metadata": {},
     "output_type": "execute_result"
    }
   ],
   "source": [
    "h5"
   ]
  },
  {
   "cell_type": "code",
   "execution_count": 48,
   "metadata": {},
   "outputs": [],
   "source": [
    "import datetime\n",
    "start = datetime.datetime(2021, 1, 2)\n",
    "end = datetime.datetime(2021, 1, 3)"
   ]
  },
  {
   "cell_type": "code",
   "execution_count": 53,
   "metadata": {},
   "outputs": [
    {
     "name": "stdout",
     "output_type": "stream",
     "text": [
      "CPU times: user 15.3 ms, sys: 5.36 ms, total: 20.7 ms\n",
      "Wall time: 17.8 ms\n"
     ]
    },
    {
     "data": {
      "text/html": [
       "<div>\n",
       "<style scoped>\n",
       "    .dataframe tbody tr th:only-of-type {\n",
       "        vertical-align: middle;\n",
       "    }\n",
       "\n",
       "    .dataframe tbody tr th {\n",
       "        vertical-align: top;\n",
       "    }\n",
       "\n",
       "    .dataframe thead th {\n",
       "        text-align: right;\n",
       "    }\n",
       "</style>\n",
       "<table border=\"1\" class=\"dataframe\">\n",
       "  <thead>\n",
       "    <tr style=\"text-align: right;\">\n",
       "      <th></th>\n",
       "      <th>no0</th>\n",
       "      <th>no1</th>\n",
       "      <th>no2</th>\n",
       "      <th>no3</th>\n",
       "      <th>no4</th>\n",
       "    </tr>\n",
       "  </thead>\n",
       "  <tbody>\n",
       "    <tr>\n",
       "      <th>2021-01-02 00:00:00</th>\n",
       "      <td>98.1395</td>\n",
       "      <td>104.7476</td>\n",
       "      <td>94.3077</td>\n",
       "      <td>100.7838</td>\n",
       "      <td>104.9974</td>\n",
       "    </tr>\n",
       "    <tr>\n",
       "      <th>2021-01-02 00:00:01</th>\n",
       "      <td>98.1301</td>\n",
       "      <td>104.7450</td>\n",
       "      <td>94.2960</td>\n",
       "      <td>100.7801</td>\n",
       "      <td>104.9960</td>\n",
       "    </tr>\n",
       "    <tr>\n",
       "      <th>2021-01-02 00:00:02</th>\n",
       "      <td>98.1139</td>\n",
       "      <td>104.7447</td>\n",
       "      <td>94.2968</td>\n",
       "      <td>100.7611</td>\n",
       "      <td>104.9890</td>\n",
       "    </tr>\n",
       "    <tr>\n",
       "      <th>2021-01-02 00:00:03</th>\n",
       "      <td>98.1017</td>\n",
       "      <td>104.7556</td>\n",
       "      <td>94.2972</td>\n",
       "      <td>100.7738</td>\n",
       "      <td>104.9927</td>\n",
       "    </tr>\n",
       "    <tr>\n",
       "      <th>2021-01-02 00:00:04</th>\n",
       "      <td>98.1122</td>\n",
       "      <td>104.7587</td>\n",
       "      <td>94.3121</td>\n",
       "      <td>100.7778</td>\n",
       "      <td>104.9872</td>\n",
       "    </tr>\n",
       "    <tr>\n",
       "      <th>...</th>\n",
       "      <td>...</td>\n",
       "      <td>...</td>\n",
       "      <td>...</td>\n",
       "      <td>...</td>\n",
       "      <td>...</td>\n",
       "    </tr>\n",
       "    <tr>\n",
       "      <th>2021-01-02 23:59:56</th>\n",
       "      <td>101.7577</td>\n",
       "      <td>108.1243</td>\n",
       "      <td>99.3538</td>\n",
       "      <td>101.8998</td>\n",
       "      <td>105.0772</td>\n",
       "    </tr>\n",
       "    <tr>\n",
       "      <th>2021-01-02 23:59:57</th>\n",
       "      <td>101.7543</td>\n",
       "      <td>108.1158</td>\n",
       "      <td>99.3473</td>\n",
       "      <td>101.8974</td>\n",
       "      <td>105.0656</td>\n",
       "    </tr>\n",
       "    <tr>\n",
       "      <th>2021-01-02 23:59:58</th>\n",
       "      <td>101.7467</td>\n",
       "      <td>108.1232</td>\n",
       "      <td>99.3454</td>\n",
       "      <td>101.8900</td>\n",
       "      <td>105.0501</td>\n",
       "    </tr>\n",
       "    <tr>\n",
       "      <th>2021-01-02 23:59:59</th>\n",
       "      <td>101.7495</td>\n",
       "      <td>108.1315</td>\n",
       "      <td>99.3472</td>\n",
       "      <td>101.9138</td>\n",
       "      <td>105.0559</td>\n",
       "    </tr>\n",
       "    <tr>\n",
       "      <th>2021-01-03 00:00:00</th>\n",
       "      <td>101.7515</td>\n",
       "      <td>108.1491</td>\n",
       "      <td>99.3576</td>\n",
       "      <td>101.9116</td>\n",
       "      <td>105.0567</td>\n",
       "    </tr>\n",
       "  </tbody>\n",
       "</table>\n",
       "<p>86401 rows × 5 columns</p>\n",
       "</div>"
      ],
      "text/plain": [
       "                          no0       no1      no2       no3       no4\n",
       "2021-01-02 00:00:00   98.1395  104.7476  94.3077  100.7838  104.9974\n",
       "2021-01-02 00:00:01   98.1301  104.7450  94.2960  100.7801  104.9960\n",
       "2021-01-02 00:00:02   98.1139  104.7447  94.2968  100.7611  104.9890\n",
       "2021-01-02 00:00:03   98.1017  104.7556  94.2972  100.7738  104.9927\n",
       "2021-01-02 00:00:04   98.1122  104.7587  94.3121  100.7778  104.9872\n",
       "...                       ...       ...      ...       ...       ...\n",
       "2021-01-02 23:59:56  101.7577  108.1243  99.3538  101.8998  105.0772\n",
       "2021-01-02 23:59:57  101.7543  108.1158  99.3473  101.8974  105.0656\n",
       "2021-01-02 23:59:58  101.7467  108.1232  99.3454  101.8900  105.0501\n",
       "2021-01-02 23:59:59  101.7495  108.1315  99.3472  101.9138  105.0559\n",
       "2021-01-03 00:00:00  101.7515  108.1491  99.3576  101.9116  105.0567\n",
       "\n",
       "[86401 rows x 5 columns]"
      ]
     },
     "execution_count": 53,
     "metadata": {},
     "output_type": "execute_result"
    }
   ],
   "source": [
    "%time subset = ts.read_range(start, end)\n",
    "subset"
   ]
  },
  {
   "cell_type": "code",
   "execution_count": 54,
   "metadata": {},
   "outputs": [],
   "source": [
    "start = datetime.datetime(2021, 1, 2, 12, 30, 0)\n",
    "end = datetime.datetime(2021, 1, 5, 17, 15, 30)"
   ]
  },
  {
   "cell_type": "code",
   "execution_count": 56,
   "metadata": {},
   "outputs": [
    {
     "name": "stdout",
     "output_type": "stream",
     "text": [
      "CPU times: user 23.4 ms, sys: 1.31 ms, total: 24.7 ms\n",
      "Wall time: 24.4 ms\n"
     ]
    },
    {
     "data": {
      "text/html": [
       "<div>\n",
       "<style scoped>\n",
       "    .dataframe tbody tr th:only-of-type {\n",
       "        vertical-align: middle;\n",
       "    }\n",
       "\n",
       "    .dataframe tbody tr th {\n",
       "        vertical-align: top;\n",
       "    }\n",
       "\n",
       "    .dataframe thead th {\n",
       "        text-align: right;\n",
       "    }\n",
       "</style>\n",
       "<table border=\"1\" class=\"dataframe\">\n",
       "  <thead>\n",
       "    <tr style=\"text-align: right;\">\n",
       "      <th></th>\n",
       "      <th>no0</th>\n",
       "      <th>no1</th>\n",
       "      <th>no2</th>\n",
       "      <th>no3</th>\n",
       "      <th>no4</th>\n",
       "    </tr>\n",
       "  </thead>\n",
       "  <tbody>\n",
       "    <tr>\n",
       "      <th>2021-01-02 12:30:00</th>\n",
       "      <td>101.4190</td>\n",
       "      <td>106.0834</td>\n",
       "      <td>97.6726</td>\n",
       "      <td>101.5131</td>\n",
       "      <td>106.2501</td>\n",
       "    </tr>\n",
       "    <tr>\n",
       "      <th>2021-01-02 12:30:01</th>\n",
       "      <td>101.4005</td>\n",
       "      <td>106.0739</td>\n",
       "      <td>97.6757</td>\n",
       "      <td>101.5124</td>\n",
       "      <td>106.2546</td>\n",
       "    </tr>\n",
       "    <tr>\n",
       "      <th>2021-01-02 12:30:02</th>\n",
       "      <td>101.4036</td>\n",
       "      <td>106.0700</td>\n",
       "      <td>97.6645</td>\n",
       "      <td>101.5253</td>\n",
       "      <td>106.2559</td>\n",
       "    </tr>\n",
       "    <tr>\n",
       "      <th>2021-01-02 12:30:03</th>\n",
       "      <td>101.4065</td>\n",
       "      <td>106.0827</td>\n",
       "      <td>97.6658</td>\n",
       "      <td>101.5387</td>\n",
       "      <td>106.2476</td>\n",
       "    </tr>\n",
       "    <tr>\n",
       "      <th>2021-01-02 12:30:04</th>\n",
       "      <td>101.3932</td>\n",
       "      <td>106.0795</td>\n",
       "      <td>97.6618</td>\n",
       "      <td>101.5451</td>\n",
       "      <td>106.2388</td>\n",
       "    </tr>\n",
       "    <tr>\n",
       "      <th>...</th>\n",
       "      <td>...</td>\n",
       "      <td>...</td>\n",
       "      <td>...</td>\n",
       "      <td>...</td>\n",
       "      <td>...</td>\n",
       "    </tr>\n",
       "    <tr>\n",
       "      <th>2021-01-05 17:15:26</th>\n",
       "      <td>96.0474</td>\n",
       "      <td>104.7090</td>\n",
       "      <td>99.6857</td>\n",
       "      <td>105.1219</td>\n",
       "      <td>100.9773</td>\n",
       "    </tr>\n",
       "    <tr>\n",
       "      <th>2021-01-05 17:15:27</th>\n",
       "      <td>96.0369</td>\n",
       "      <td>104.6994</td>\n",
       "      <td>99.6816</td>\n",
       "      <td>105.1361</td>\n",
       "      <td>100.9952</td>\n",
       "    </tr>\n",
       "    <tr>\n",
       "      <th>2021-01-05 17:15:28</th>\n",
       "      <td>96.0460</td>\n",
       "      <td>104.6805</td>\n",
       "      <td>99.6946</td>\n",
       "      <td>105.1388</td>\n",
       "      <td>100.9827</td>\n",
       "    </tr>\n",
       "    <tr>\n",
       "      <th>2021-01-05 17:15:29</th>\n",
       "      <td>96.0414</td>\n",
       "      <td>104.6653</td>\n",
       "      <td>99.6823</td>\n",
       "      <td>105.1194</td>\n",
       "      <td>100.9678</td>\n",
       "    </tr>\n",
       "    <tr>\n",
       "      <th>2021-01-05 17:15:30</th>\n",
       "      <td>96.0376</td>\n",
       "      <td>104.6600</td>\n",
       "      <td>99.6845</td>\n",
       "      <td>105.1074</td>\n",
       "      <td>100.9726</td>\n",
       "    </tr>\n",
       "  </tbody>\n",
       "</table>\n",
       "<p>276331 rows × 5 columns</p>\n",
       "</div>"
      ],
      "text/plain": [
       "                          no0       no1      no2       no3       no4\n",
       "2021-01-02 12:30:00  101.4190  106.0834  97.6726  101.5131  106.2501\n",
       "2021-01-02 12:30:01  101.4005  106.0739  97.6757  101.5124  106.2546\n",
       "2021-01-02 12:30:02  101.4036  106.0700  97.6645  101.5253  106.2559\n",
       "2021-01-02 12:30:03  101.4065  106.0827  97.6658  101.5387  106.2476\n",
       "2021-01-02 12:30:04  101.3932  106.0795  97.6618  101.5451  106.2388\n",
       "...                       ...       ...      ...       ...       ...\n",
       "2021-01-05 17:15:26   96.0474  104.7090  99.6857  105.1219  100.9773\n",
       "2021-01-05 17:15:27   96.0369  104.6994  99.6816  105.1361  100.9952\n",
       "2021-01-05 17:15:28   96.0460  104.6805  99.6946  105.1388  100.9827\n",
       "2021-01-05 17:15:29   96.0414  104.6653  99.6823  105.1194  100.9678\n",
       "2021-01-05 17:15:30   96.0376  104.6600  99.6845  105.1074  100.9726\n",
       "\n",
       "[276331 rows x 5 columns]"
      ]
     },
     "execution_count": 56,
     "metadata": {},
     "output_type": "execute_result"
    }
   ],
   "source": [
    "%time subset = ts.read_range(start, end)\n",
    "subset"
   ]
  },
  {
   "cell_type": "code",
   "execution_count": 57,
   "metadata": {},
   "outputs": [
    {
     "name": "stdout",
     "output_type": "stream",
     "text": [
      "<class 'pandas.core.frame.DataFrame'>\n",
      "DatetimeIndex: 276331 entries, 2021-01-02 12:30:00 to 2021-01-05 17:15:30\n",
      "Data columns (total 5 columns):\n",
      " #   Column  Non-Null Count   Dtype  \n",
      "---  ------  --------------   -----  \n",
      " 0   no0     276331 non-null  float64\n",
      " 1   no1     276331 non-null  float64\n",
      " 2   no2     276331 non-null  float64\n",
      " 3   no3     276331 non-null  float64\n",
      " 4   no4     276331 non-null  float64\n",
      "dtypes: float64(5)\n",
      "memory usage: 12.6 MB\n"
     ]
    }
   ],
   "source": [
    "subset.info()"
   ]
  },
  {
   "cell_type": "code",
   "execution_count": 58,
   "metadata": {},
   "outputs": [],
   "source": [
    "import sqlite3 as sq3"
   ]
  },
  {
   "cell_type": "code",
   "execution_count": 59,
   "metadata": {},
   "outputs": [],
   "source": [
    "con = sq3.connect('data/data.sql')"
   ]
  },
  {
   "cell_type": "code",
   "execution_count": 60,
   "metadata": {},
   "outputs": [
    {
     "name": "stdout",
     "output_type": "stream",
     "text": [
      "CPU times: user 7.89 s, sys: 1.75 s, total: 9.64 s\n",
      "Wall time: 13.4 s\n"
     ]
    },
    {
     "data": {
      "text/plain": [
       "2500000"
      ]
     },
     "execution_count": 60,
     "metadata": {},
     "output_type": "execute_result"
    }
   ],
   "source": [
    "%time data.to_sql('data', con)"
   ]
  },
  {
   "cell_type": "markdown",
   "metadata": {},
   "source": [
    "sql much slower for this time series data than the binary hdf5 data structure. however the strength of it is that we can perform queries on data not in memory."
   ]
  },
  {
   "cell_type": "code",
   "execution_count": null,
   "metadata": {},
   "outputs": [
    {
     "name": "stdout",
     "output_type": "stream",
     "text": [
      "CPU times: user 2.36 s, sys: 361 ms, total: 2.72 s\n",
      "Wall time: 3.61 s\n"
     ]
    }
   ],
   "source": [
    "query = 'SELECT * FROM data WHERE No1 > 105 and No2 < 108'\n",
    "%time res = con.execute(query).fetchall()"
   ]
  },
  {
   "cell_type": "code",
   "execution_count": 67,
   "metadata": {},
   "outputs": [
    {
     "data": {
      "text/plain": [
       "[('2021-01-01 12:29:50', 97.6635, 105.0055, 97.7021, 100.5967, 102.947),\n",
       " ('2021-01-01 12:29:51', 97.654, 105.0107, 97.7026, 100.6001, 102.941),\n",
       " ('2021-01-01 12:29:52', 97.6544, 105.0057, 97.6934, 100.6102, 102.9458),\n",
       " ('2021-01-01 12:29:53', 97.6509, 105.0014, 97.6976, 100.6118, 102.9453),\n",
       " ('2021-01-01 12:29:54', 97.6521, 105.0061, 97.7025, 100.6196, 102.9603)]"
      ]
     },
     "execution_count": 67,
     "metadata": {},
     "output_type": "execute_result"
    }
   ],
   "source": [
    "con.close()\n",
    "res[:5]"
   ]
  },
  {
   "cell_type": "markdown",
   "metadata": {},
   "source": [
    "while we could do the same thing with pandas, it's only really possible if the data fits in memory"
   ]
  },
  {
   "cell_type": "code",
   "execution_count": null,
   "metadata": {},
   "outputs": [],
   "source": []
  }
 ],
 "metadata": {
  "kernelspec": {
   "display_name": "Python 3 (ipykernel)",
   "language": "python",
   "name": "python3"
  },
  "language_info": {
   "codemirror_mode": {
    "name": "ipython",
    "version": 3
   },
   "file_extension": ".py",
   "mimetype": "text/x-python",
   "name": "python",
   "nbconvert_exporter": "python",
   "pygments_lexer": "ipython3",
   "version": "3.10.16"
  }
 },
 "nbformat": 4,
 "nbformat_minor": 2
}
