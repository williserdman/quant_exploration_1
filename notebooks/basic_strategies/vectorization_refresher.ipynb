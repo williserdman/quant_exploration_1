{
 "cells": [
  {
   "cell_type": "markdown",
   "id": "7f68c8cc",
   "metadata": {},
   "source": [
    "## notes about vectorization\n",
    "also called array programming. pretty much everything is moved into the vector space, instead of doing operations on scalars we do operations on a vector at a time\n",
    "\n",
    "we will be using numpy for quick inference. the basic `ndarray` stands for *n-dimensional array*. linear algebra techs then works as expected."
   ]
  },
  {
   "cell_type": "code",
   "execution_count": null,
   "id": "d1988309",
   "metadata": {},
   "outputs": [
    {
     "data": {
      "text/plain": [
       "array([ 2,  4,  6,  8, 10])"
      ]
     },
     "metadata": {},
     "output_type": "display_data"
    }
   ],
   "source": [
    "import numpy as np\n",
    "\n",
    "a = np.array([1, 2, 3, 4, 5])\n",
    "\n",
    "2 * a"
   ]
  },
  {
   "cell_type": "code",
   "execution_count": null,
   "id": "2071e709",
   "metadata": {},
   "outputs": [
    {
     "data": {
      "text/plain": [
       "array([2.5, 3. , 3.5, 4. , 4.5])"
      ]
     },
     "metadata": {},
     "output_type": "display_data"
    }
   ],
   "source": [
    "0.5 * a + 2"
   ]
  },
  {
   "cell_type": "code",
   "execution_count": null,
   "id": "5ca9eff5",
   "metadata": {},
   "outputs": [
    {
     "data": {
      "text/plain": [
       "array([[ 0,  2,  4,  6],\n",
       "       [ 8, 10, 12, 14],\n",
       "       [16, 18, 20, 22]])"
      ]
     },
     "metadata": {},
     "output_type": "display_data"
    }
   ],
   "source": [
    "# we can also create an array and then transform it to a matrix representation\n",
    "a = np.arange(12).reshape(3, 4)\n",
    "2 * a"
   ]
  },
  {
   "cell_type": "code",
   "execution_count": null,
   "id": "02dd6bad",
   "metadata": {},
   "outputs": [
    {
     "data": {
      "text/plain": [
       "(5.5, 5.5)"
      ]
     },
     "metadata": {},
     "output_type": "display_data"
    }
   ],
   "source": [
    "a.mean(), np.mean(a)"
   ]
  },
  {
   "cell_type": "markdown",
   "id": "8da43f60",
   "metadata": {},
   "source": [
    "pandas equivalent"
   ]
  },
  {
   "cell_type": "code",
   "execution_count": null,
   "id": "17784e9f",
   "metadata": {},
   "outputs": [
    {
     "data": {
      "text/plain": [
       "DatetimeIndex(['2021-07-01', '2021-07-02', '2021-07-05', '2021-07-06',\n",
       "               '2021-07-07'],\n",
       "              dtype='datetime64[ns]', freq='B')"
      ]
     },
     "metadata": {},
     "output_type": "display_data"
    }
   ],
   "source": [
    "import pandas as pd\n",
    "\n",
    "cols = ['a', 'b', 'c']\n",
    "data = np.arange(15).reshape(5, 3)\n",
    "\n",
    "\n",
    "rows = pd.date_range('2021-07-01', periods=5, freq='B') # generates 5 business days\n",
    "rows"
   ]
  },
  {
   "cell_type": "code",
   "execution_count": null,
   "id": "016890d0",
   "metadata": {},
   "outputs": [
    {
     "data": {
      "text/html": [
       "<div>\n",
       "<style scoped>\n",
       "    .dataframe tbody tr th:only-of-type {\n",
       "        vertical-align: middle;\n",
       "    }\n",
       "\n",
       "    .dataframe tbody tr th {\n",
       "        vertical-align: top;\n",
       "    }\n",
       "\n",
       "    .dataframe thead th {\n",
       "        text-align: right;\n",
       "    }\n",
       "</style>\n",
       "<table border=\"1\" class=\"dataframe\">\n",
       "  <thead>\n",
       "    <tr style=\"text-align: right;\">\n",
       "      <th></th>\n",
       "      <th>a</th>\n",
       "      <th>b</th>\n",
       "      <th>c</th>\n",
       "    </tr>\n",
       "  </thead>\n",
       "  <tbody>\n",
       "    <tr>\n",
       "      <th>2021-07-01</th>\n",
       "      <td>0</td>\n",
       "      <td>1</td>\n",
       "      <td>2</td>\n",
       "    </tr>\n",
       "    <tr>\n",
       "      <th>2021-07-02</th>\n",
       "      <td>3</td>\n",
       "      <td>4</td>\n",
       "      <td>5</td>\n",
       "    </tr>\n",
       "    <tr>\n",
       "      <th>2021-07-05</th>\n",
       "      <td>6</td>\n",
       "      <td>7</td>\n",
       "      <td>8</td>\n",
       "    </tr>\n",
       "    <tr>\n",
       "      <th>2021-07-06</th>\n",
       "      <td>9</td>\n",
       "      <td>10</td>\n",
       "      <td>11</td>\n",
       "    </tr>\n",
       "    <tr>\n",
       "      <th>2021-07-07</th>\n",
       "      <td>12</td>\n",
       "      <td>13</td>\n",
       "      <td>14</td>\n",
       "    </tr>\n",
       "  </tbody>\n",
       "</table>\n",
       "</div>"
      ],
      "text/plain": [
       "             a   b   c\n",
       "2021-07-01   0   1   2\n",
       "2021-07-02   3   4   5\n",
       "2021-07-05   6   7   8\n",
       "2021-07-06   9  10  11\n",
       "2021-07-07  12  13  14"
      ]
     },
     "metadata": {},
     "output_type": "display_data"
    }
   ],
   "source": [
    "df = pd.DataFrame(data, columns=cols, index=rows)\n",
    "df"
   ]
  },
  {
   "cell_type": "markdown",
   "id": "6c37c618",
   "metadata": {},
   "source": [
    "vectorization works pretty much the same as `numpy`, however, aggregation happens column-wise"
   ]
  },
  {
   "cell_type": "code",
   "execution_count": null,
   "id": "d4f541f6",
   "metadata": {},
   "outputs": [
    {
     "data": {
      "text/html": [
       "<div>\n",
       "<style scoped>\n",
       "    .dataframe tbody tr th:only-of-type {\n",
       "        vertical-align: middle;\n",
       "    }\n",
       "\n",
       "    .dataframe tbody tr th {\n",
       "        vertical-align: top;\n",
       "    }\n",
       "\n",
       "    .dataframe thead th {\n",
       "        text-align: right;\n",
       "    }\n",
       "</style>\n",
       "<table border=\"1\" class=\"dataframe\">\n",
       "  <thead>\n",
       "    <tr style=\"text-align: right;\">\n",
       "      <th></th>\n",
       "      <th>a</th>\n",
       "      <th>b</th>\n",
       "      <th>c</th>\n",
       "    </tr>\n",
       "  </thead>\n",
       "  <tbody>\n",
       "    <tr>\n",
       "      <th>2021-07-01</th>\n",
       "      <td>0</td>\n",
       "      <td>2</td>\n",
       "      <td>4</td>\n",
       "    </tr>\n",
       "    <tr>\n",
       "      <th>2021-07-02</th>\n",
       "      <td>6</td>\n",
       "      <td>8</td>\n",
       "      <td>10</td>\n",
       "    </tr>\n",
       "    <tr>\n",
       "      <th>2021-07-05</th>\n",
       "      <td>12</td>\n",
       "      <td>14</td>\n",
       "      <td>16</td>\n",
       "    </tr>\n",
       "    <tr>\n",
       "      <th>2021-07-06</th>\n",
       "      <td>18</td>\n",
       "      <td>20</td>\n",
       "      <td>22</td>\n",
       "    </tr>\n",
       "    <tr>\n",
       "      <th>2021-07-07</th>\n",
       "      <td>24</td>\n",
       "      <td>26</td>\n",
       "      <td>28</td>\n",
       "    </tr>\n",
       "  </tbody>\n",
       "</table>\n",
       "</div>"
      ],
      "text/plain": [
       "             a   b   c\n",
       "2021-07-01   0   2   4\n",
       "2021-07-02   6   8  10\n",
       "2021-07-05  12  14  16\n",
       "2021-07-06  18  20  22\n",
       "2021-07-07  24  26  28"
      ]
     },
     "metadata": {},
     "output_type": "display_data"
    }
   ],
   "source": [
    "2 * df # multiply all elements by 2"
   ]
  },
  {
   "cell_type": "code",
   "execution_count": null,
   "id": "64d3ea4f",
   "metadata": {},
   "outputs": [
    {
     "data": {
      "text/plain": [
       "(a    30\n",
       " b    35\n",
       " c    40\n",
       " dtype: int64,\n",
       " a    6.0\n",
       " b    7.0\n",
       " c    8.0\n",
       " dtype: float64)"
      ]
     },
     "metadata": {},
     "output_type": "display_data"
    }
   ],
   "source": [
    "df.sum(), df.mean()"
   ]
  },
  {
   "cell_type": "markdown",
   "id": "0c99f662",
   "metadata": {},
   "source": [
    "so each column can then be treated as a vector. we can access columns by `[\"col_name\"]` notation or `df.col_name`"
   ]
  },
  {
   "cell_type": "code",
   "execution_count": null,
   "id": "d1ea5262",
   "metadata": {},
   "outputs": [
    {
     "data": {
      "text/plain": [
       "2021-07-01     1\n",
       "2021-07-02     7\n",
       "2021-07-05    13\n",
       "2021-07-06    19\n",
       "2021-07-07    25\n",
       "Freq: B, dtype: int64"
      ]
     },
     "metadata": {},
     "output_type": "display_data"
    }
   ],
   "source": [
    "df[\"a\"] + df[\"b\"] # add column a to column b"
   ]
  },
  {
   "cell_type": "code",
   "execution_count": null,
   "id": "a1ebf118",
   "metadata": {},
   "outputs": [
    {
     "data": {
      "text/plain": [
       "2021-07-01     0.0\n",
       "2021-07-02     4.5\n",
       "2021-07-05     9.0\n",
       "2021-07-06    13.5\n",
       "2021-07-07    18.0\n",
       "Freq: B, dtype: float64"
      ]
     },
     "metadata": {},
     "output_type": "display_data"
    }
   ],
   "source": [
    "0.5 * df.a + 2 * df.b - df.c"
   ]
  },
  {
   "cell_type": "markdown",
   "id": "1cabc4ea",
   "metadata": {},
   "source": [
    "we can also get the result of boolean operations then use logical indexing"
   ]
  },
  {
   "cell_type": "code",
   "execution_count": null,
   "id": "0753838c",
   "metadata": {},
   "outputs": [
    {
     "data": {
      "text/html": [
       "<div>\n",
       "<style scoped>\n",
       "    .dataframe tbody tr th:only-of-type {\n",
       "        vertical-align: middle;\n",
       "    }\n",
       "\n",
       "    .dataframe tbody tr th {\n",
       "        vertical-align: top;\n",
       "    }\n",
       "\n",
       "    .dataframe thead th {\n",
       "        text-align: right;\n",
       "    }\n",
       "</style>\n",
       "<table border=\"1\" class=\"dataframe\">\n",
       "  <thead>\n",
       "    <tr style=\"text-align: right;\">\n",
       "      <th></th>\n",
       "      <th>a</th>\n",
       "      <th>b</th>\n",
       "      <th>c</th>\n",
       "    </tr>\n",
       "  </thead>\n",
       "  <tbody>\n",
       "    <tr>\n",
       "      <th>2021-07-05</th>\n",
       "      <td>6</td>\n",
       "      <td>7</td>\n",
       "      <td>8</td>\n",
       "    </tr>\n",
       "    <tr>\n",
       "      <th>2021-07-06</th>\n",
       "      <td>9</td>\n",
       "      <td>10</td>\n",
       "      <td>11</td>\n",
       "    </tr>\n",
       "    <tr>\n",
       "      <th>2021-07-07</th>\n",
       "      <td>12</td>\n",
       "      <td>13</td>\n",
       "      <td>14</td>\n",
       "    </tr>\n",
       "  </tbody>\n",
       "</table>\n",
       "</div>"
      ],
      "text/plain": [
       "             a   b   c\n",
       "2021-07-05   6   7   8\n",
       "2021-07-06   9  10  11\n",
       "2021-07-07  12  13  14"
      ]
     },
     "metadata": {},
     "output_type": "display_data"
    }
   ],
   "source": [
    "df[df['a'] > 5] # select rows where column a is greater than 5"
   ]
  },
  {
   "cell_type": "code",
   "execution_count": null,
   "id": "fbf52e4f",
   "metadata": {},
   "outputs": [
    {
     "data": {
      "text/plain": [
       "2021-07-01    False\n",
       "2021-07-02    False\n",
       "2021-07-05    False\n",
       "2021-07-06     True\n",
       "2021-07-07     True\n",
       "Freq: B, dtype: bool"
      ]
     },
     "metadata": {},
     "output_type": "display_data"
    }
   ],
   "source": [
    "# or similarly a comparison between two columns\n",
    "0.15 * df.a + df.b > df.c"
   ]
  },
  {
   "cell_type": "markdown",
   "id": "5e94c54d",
   "metadata": {},
   "source": [
    "pretty much the advantage of this is we can use C-optimized for loops to iterate over these matrix maths instead of slower pythonic ones "
   ]
  }
 ],
 "metadata": {
  "language_info": {
   "name": "python"
  }
 },
 "nbformat": 4,
 "nbformat_minor": 5
}
